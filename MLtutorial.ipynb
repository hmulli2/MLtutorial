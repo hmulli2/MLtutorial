{
 "cells": [
  {
   "cell_type": "markdown",
   "id": "026272da-8e93-43e9-b672-7caa7dd32604",
   "metadata": {},
   "source": [
    "# Supervised ml\n",
    "\n"
   ]
  },
  {
   "cell_type": "markdown",
   "id": "9e7c6e55-b24c-46f2-a6e5-3246f7716920",
   "metadata": {},
   "source": [
    "\n",
    "-Algorithms that learn input-> output label mappings, learns by bein given \"right answers\"(output label)\n",
    "-ex is email spam, text transcript from audio, english to spanish etc\n",
    "-Train from input x with correct output y so when given unknown x it can correctly predict\n",
    "-**Regression** tries to predict any number from infinite output\n",
    "\n",
    "**Supervised learning classification**\n",
    "-predict small number output, ex binary or tripple output, can be words"
   ]
  },
  {
   "cell_type": "markdown",
   "id": "da3fe1aa-7ca9-4d38-9e7c-d14f6a093e5b",
   "metadata": {},
   "source": [
    "# unsupervised learning"
   ]
  },
  {
   "cell_type": "markdown",
   "id": "018f2ada-ad0a-4dc5-84f8-75d3cf74a1c1",
   "metadata": {},
   "source": [
    "- Find something interesting in unlabeled data\n",
    "- **clustering**: automatically categorizing data based on similar characteristics\n",
    "- **anomaly detection**: find unusual data points\n",
    "- "
   ]
  },
  {
   "cell_type": "markdown",
   "id": "28a34e6d-8a92-42a2-a48a-389d28d58581",
   "metadata": {},
   "source": [
    "# Supervised learning\n",
    "## Linear Regression w 1 variable\n",
    " - predicts numbers\n",
    " - **classification model** predicts categories\n",
    "## Terminology\n",
    " - **training set**: data used to train the model\n",
    " - x = \"input\" variable, y = \"output\"/\"target\" variable, m = total number of training samples, (x,y) = single training example, (x^i,y^i) = i'th training example; i represent row in the training data set\n",
    "\n",
    "## Linear regression model part 2 \n",
    "- training set -> learning algorithm -> function f where by x -> f -> y_hat(prediction)\n",
    "\n",
    "## Cost function\n",
    " - J(error) = 1/2m * sum of erros (y_hat - y)^2\n",
    " - j(error) = 1/2m * sum of erros (x - y)^2\n",
    " \n",
    "## Cost funtion intuition\n",
    " -  \n"
   ]
  },
  {
   "cell_type": "code",
   "execution_count": null,
   "id": "b6720eaf-9920-47eb-83d6-5b00f918d20a",
   "metadata": {},
   "outputs": [],
   "source": []
  }
 ],
 "metadata": {
  "kernelspec": {
   "display_name": "Python 3 (ipykernel)",
   "language": "python",
   "name": "python3"
  },
  "language_info": {
   "codemirror_mode": {
    "name": "ipython",
    "version": 3
   },
   "file_extension": ".py",
   "mimetype": "text/x-python",
   "name": "python",
   "nbconvert_exporter": "python",
   "pygments_lexer": "ipython3",
   "version": "3.10.4"
  }
 },
 "nbformat": 4,
 "nbformat_minor": 5
}
